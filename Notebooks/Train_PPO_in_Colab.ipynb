{
  "cells": [
    {
      "cell_type": "code",
      "execution_count": null,
      "metadata": {
        "colab": {
          "base_uri": "https://localhost:8080/"
        },
        "id": "8uxvaZh4JC3m",
        "outputId": "0c81b0a2-2c4a-498d-d7bc-79db5017e696"
      },
      "outputs": [],
      "source": [
        "! git clone https://github.com/Yang-Hyun-Jun/RLPortfolio-PPO-COLAB.git"
      ]
    },
    {
      "cell_type": "code",
      "execution_count": null,
      "metadata": {
        "colab": {
          "base_uri": "https://localhost:8080/"
        },
        "id": "kUg00ApLZcT_",
        "outputId": "53f0a7c5-715e-48fe-adb1-a553a2a84675"
      },
      "outputs": [],
      "source": [
        "! pip install mplfinance"
      ]
    },
    {
      "cell_type": "code",
      "execution_count": 3,
      "metadata": {
        "id": "FM8aiSypZdM1"
      },
      "outputs": [],
      "source": [
        "import sys\n",
        "import os\n",
        "import torch"
      ]
    },
    {
      "cell_type": "code",
      "execution_count": 4,
      "metadata": {
        "id": "6gm9-zmgZeOs"
      },
      "outputs": [],
      "source": [
        "sys.path.insert(0, \"/content/RLPortfolio-PPO-COLAB\")"
      ]
    },
    {
      "cell_type": "code",
      "execution_count": 5,
      "metadata": {
        "id": "LtkWB-_fZfAR"
      },
      "outputs": [],
      "source": [
        "os.makedirs(\"/content/Metrics\", exist_ok=True)\n",
        "os.makedirs(\"/content/Models\", exist_ok=True)"
      ]
    },
    {
      "cell_type": "code",
      "execution_count": 6,
      "metadata": {
        "id": "f8V2dr-IZf76"
      },
      "outputs": [],
      "source": [
        "import DataManager\n",
        "import utils\n",
        "import Learner\n",
        "import ReplayMemory\n",
        "import Test\n",
        "import Agent\n",
        "import Network \n",
        "\n",
        "from Learner import PPOLearner\n",
        "from Test import PPOTester"
      ]
    },
    {
      "cell_type": "code",
      "execution_count": 7,
      "metadata": {
        "id": "8WyUh4WAqT3o"
      },
      "outputs": [],
      "source": [
        "# Random seed \n",
        "\n",
        "seed = 8\n",
        "Learner.seed = seed\n",
        "ReplayMemory.seed = seed\n",
        "Test.seed = seed\n",
        "Agent.seed = seed\n",
        "Network.seed = seed"
      ]
    },
    {
      "cell_type": "code",
      "execution_count": null,
      "metadata": {
        "colab": {
          "base_uri": "https://localhost:8080/"
        },
        "id": "GGr1SN1gZg5x",
        "outputId": "44eebe3f-24c2-4ad0-d94b-5f5df7979dc1"
      },
      "outputs": [],
      "source": [
        "# Data Load\n",
        "\n",
        "stock_list = [\"BIDU\", \"TCOM\", \"AAPL\", \"COST\"]\n",
        "path_list = []\n",
        "\n",
        "for stock_name in stock_list:\n",
        "  path = utils.SAVE_DIR + \"/RLPortfolio-PPO-COLAB/Data/\" + stock_name\n",
        "  path_list.append(path)\n",
        "\n",
        "train_data, test_data = DataManager.get_data_tensor(path_list,\n",
        "                                                    train_date_start=\"2014-06-02\",\n",
        "                                                    train_date_end=\"2019-12-31\",\n",
        "                                                    test_date_start=\"2020-01-02\",\n",
        "                                                    test_date_end=\"2021-12-31\")"
      ]
    },
    {
      "cell_type": "code",
      "execution_count": 10,
      "metadata": {
        "id": "9-cWv9MTZiAM"
      },
      "outputs": [],
      "source": [
        "\"\"\"\"\n",
        "K: 거래 종목 수\n",
        "lr: learing rate (default 1e-5)\n",
        "tau: soft target update (default 0.005)\n",
        "delta: hold action threshold (default 0.005)\n",
        "discount_factor: gamma (default 0.9)\n",
        "num_episode: episode (default 50)\n",
        "balance: 초기 투자금 (default 12000 달러) \n",
        "batch_size: 배치 사이즈 (default 30)\n",
        "memory_size: 버퍼 사이즈 (default 100)\n",
        "min_trading_price: 최소 거래 금액 (default 0달러)\n",
        "max_trading_price: 최대 거래 금액 (default 400달러) \n",
        "repre: 테스트시 대푯값 (\"mean\" or \"mode\")\n",
        "\"\"\"\n",
        "\n",
        "# Hyperparameters\n",
        "K = len(stock_list)\n",
        "lr = 1e-6\n",
        "tau = 0.005\n",
        "delta = 0.005\n",
        "discount_factor = 0.9\n",
        "num_episode = 30\n",
        "balance = 12000\n",
        "batch_size = 20\n",
        "memory_size = 100\n",
        "min_trading_price = 0\n",
        "max_trading_price = 400\n",
        "\n",
        "# paramter1 for training\n",
        "parameters1 = {\"lr\":lr, \n",
        "               \"tau\":tau,\n",
        "               \"K\":K,\n",
        "               \"delta\":delta, \"cost\":0.0,\n",
        "               \"chart_data\":train_data,\n",
        "               \"discount_factor\":discount_factor,\n",
        "               \"min_trading_price\":min_trading_price,\n",
        "               \"max_trading_price\":max_trading_price,\n",
        "               \"batch_size\":batch_size,\n",
        "               \"memory_size\":memory_size}\n",
        "\n",
        "# parameter2 : for test\n",
        "parameters2 = {\"K\":K,\n",
        "               \"delta\":delta,\n",
        "               \"balance\":balance, \"cost\":0.0025,\n",
        "               \"min_trading_price\":min_trading_price,\n",
        "               \"max_trading_price\":max_trading_price,\n",
        "               \"test_data\":test_data,\n",
        "               \"holding\":False} "
      ]
    },
    {
      "cell_type": "code",
      "execution_count": null,
      "metadata": {
        "colab": {
          "base_uri": "https://localhost:8080/",
          "height": 1000
        },
        "id": "lrGKrsXJZjTK",
        "outputId": "b27f64e9-a22b-4e3e-f9f7-a45fdf796290"
      },
      "outputs": [],
      "source": [
        "# 학습 수행\n",
        "learner = PPOLearner(**parameters1)\n",
        "learner.run(num_episode=num_episode, balance=balance)\n",
        "learner.save_model(critic_path=utils.SAVE_DIR + \"/Models\" + \"/PPOPortfolio_critic.pth\",\n",
        "                   actor_path=utils.SAVE_DIR + \"/Models\" + \"/PPOPortfolio_actor.pth\",\n",
        "                   score_net_path=utils.SAVE_DIR + \"/Models\" + \"/PPOPortfolio_score.pth\")"
      ]
    },
    {
      "cell_type": "code",
      "execution_count": null,
      "metadata": {
        "colab": {
          "base_uri": "https://localhost:8080/",
          "height": 1000
        },
        "id": "UUWMnxA7ZkR-",
        "outputId": "5cb72122-bab0-44db-ba7c-ed77ece2049e"
      },
      "outputs": [],
      "source": [
        "# 테스트 수행\n",
        "tester = PPOTester(**parameters2)\n",
        "tester.run()"
      ]
    },
    {
      "cell_type": "code",
      "execution_count": null,
      "metadata": {
        "id": "P50OHIdmjkwR"
      },
      "outputs": [],
      "source": [
        "! zip -r /content/Metrics.zip /content/Metrics"
      ]
    },
    {
      "cell_type": "code",
      "execution_count": null,
      "metadata": {
        "id": "siUW6y814NXR"
      },
      "outputs": [],
      "source": [
        "! zip -r /content/Models.zip /content/Models"
      ]
    },
    {
      "cell_type": "code",
      "execution_count": null,
      "metadata": {
        "colab": {
          "base_uri": "https://localhost:8080/",
          "height": 17
        },
        "id": "26Z7YaLmjvYy",
        "outputId": "fa07df4e-724a-44f2-9fe8-56fe62de7ded"
      },
      "outputs": [
        {
          "data": {
            "application/javascript": "\n    async function download(id, filename, size) {\n      if (!google.colab.kernel.accessAllowed) {\n        return;\n      }\n      const div = document.createElement('div');\n      const label = document.createElement('label');\n      label.textContent = `Downloading \"${filename}\": `;\n      div.appendChild(label);\n      const progress = document.createElement('progress');\n      progress.max = size;\n      div.appendChild(progress);\n      document.body.appendChild(div);\n\n      const buffers = [];\n      let downloaded = 0;\n\n      const channel = await google.colab.kernel.comms.open(id);\n      // Send a message to notify the kernel that we're ready.\n      channel.send({})\n\n      for await (const message of channel.messages) {\n        // Send a message to notify the kernel that we're ready.\n        channel.send({})\n        if (message.buffers) {\n          for (const buffer of message.buffers) {\n            buffers.push(buffer);\n            downloaded += buffer.byteLength;\n            progress.value = downloaded;\n          }\n        }\n      }\n      const blob = new Blob(buffers, {type: 'application/binary'});\n      const a = document.createElement('a');\n      a.href = window.URL.createObjectURL(blob);\n      a.download = filename;\n      div.appendChild(a);\n      a.click();\n      div.remove();\n    }\n  ",
            "text/plain": [
              "<IPython.core.display.Javascript object>"
            ]
          },
          "metadata": {},
          "output_type": "display_data"
        },
        {
          "data": {
            "application/javascript": "download(\"download_94acb2c0-d113-46a0-8a48-d9c9fd90504a\", \"Metrics.zip\", 462785)",
            "text/plain": [
              "<IPython.core.display.Javascript object>"
            ]
          },
          "metadata": {},
          "output_type": "display_data"
        },
        {
          "data": {
            "application/javascript": "\n    async function download(id, filename, size) {\n      if (!google.colab.kernel.accessAllowed) {\n        return;\n      }\n      const div = document.createElement('div');\n      const label = document.createElement('label');\n      label.textContent = `Downloading \"${filename}\": `;\n      div.appendChild(label);\n      const progress = document.createElement('progress');\n      progress.max = size;\n      div.appendChild(progress);\n      document.body.appendChild(div);\n\n      const buffers = [];\n      let downloaded = 0;\n\n      const channel = await google.colab.kernel.comms.open(id);\n      // Send a message to notify the kernel that we're ready.\n      channel.send({})\n\n      for await (const message of channel.messages) {\n        // Send a message to notify the kernel that we're ready.\n        channel.send({})\n        if (message.buffers) {\n          for (const buffer of message.buffers) {\n            buffers.push(buffer);\n            downloaded += buffer.byteLength;\n            progress.value = downloaded;\n          }\n        }\n      }\n      const blob = new Blob(buffers, {type: 'application/binary'});\n      const a = document.createElement('a');\n      a.href = window.URL.createObjectURL(blob);\n      a.download = filename;\n      div.appendChild(a);\n      a.click();\n      div.remove();\n    }\n  ",
            "text/plain": [
              "<IPython.core.display.Javascript object>"
            ]
          },
          "metadata": {},
          "output_type": "display_data"
        },
        {
          "data": {
            "application/javascript": "download(\"download_c07feb7f-4a1b-4d06-b74a-3767581cf60e\", \"Models.zip\", 139466)",
            "text/plain": [
              "<IPython.core.display.Javascript object>"
            ]
          },
          "metadata": {},
          "output_type": "display_data"
        }
      ],
      "source": [
        "from google.colab import files\n",
        "files.download(\"/content/Metrics.zip\")\n",
        "files.download(\"/content/Models.zip\")"
      ]
    }
  ],
  "metadata": {
    "accelerator": "GPU",
    "colab": {
      "collapsed_sections": [],
      "provenance": []
    },
    "kernelspec": {
      "display_name": "trader2",
      "language": "python",
      "name": "python3"
    },
    "language_info": {
      "name": "python",
      "version": "3.9.7 (default, Sep 16 2021, 08:50:36) \n[Clang 10.0.0 ]"
    },
    "vscode": {
      "interpreter": {
        "hash": "29be89daf952741e3c43ff064676e00aa8ac4c4ae84321cbe394240a42bc8712"
      }
    }
  },
  "nbformat": 4,
  "nbformat_minor": 0
}
